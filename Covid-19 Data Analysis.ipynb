{
 "cells": [
  {
   "cell_type": "code",
   "execution_count": 1,
   "metadata": {},
   "outputs": [],
   "source": [
    "import pandas as pd\n",
    "import numpy as np\n",
    "from matplotlib import pyplot as plt\n",
    "import seaborn as sns\n",
    "import datetime as dt"
   ]
  },
  {
   "cell_type": "code",
   "execution_count": 2,
   "metadata": {},
   "outputs": [],
   "source": [
    "covid=pd.read_csv('covid_19_india.csv', parse_dates=['Date'], dayfirst=True)"
   ]
  },
  {
   "cell_type": "code",
   "execution_count": 3,
   "metadata": {},
   "outputs": [
    {
     "data": {
      "text/plain": [
       "(14402, 9)"
      ]
     },
     "execution_count": 3,
     "metadata": {},
     "output_type": "execute_result"
    }
   ],
   "source": [
    "covid.shape"
   ]
  },
  {
   "cell_type": "code",
   "execution_count": 4,
   "metadata": {},
   "outputs": [
    {
     "data": {
      "text/html": [
       "<div>\n",
       "<style scoped>\n",
       "    .dataframe tbody tr th:only-of-type {\n",
       "        vertical-align: middle;\n",
       "    }\n",
       "\n",
       "    .dataframe tbody tr th {\n",
       "        vertical-align: top;\n",
       "    }\n",
       "\n",
       "    .dataframe thead th {\n",
       "        text-align: right;\n",
       "    }\n",
       "</style>\n",
       "<table border=\"1\" class=\"dataframe\">\n",
       "  <thead>\n",
       "    <tr style=\"text-align: right;\">\n",
       "      <th></th>\n",
       "      <th>Sno</th>\n",
       "      <th>Date</th>\n",
       "      <th>Time</th>\n",
       "      <th>State/UnionTerritory</th>\n",
       "      <th>ConfirmedIndianNational</th>\n",
       "      <th>ConfirmedForeignNational</th>\n",
       "      <th>Cured</th>\n",
       "      <th>Deaths</th>\n",
       "      <th>Confirmed</th>\n",
       "    </tr>\n",
       "  </thead>\n",
       "  <tbody>\n",
       "    <tr>\n",
       "      <th>0</th>\n",
       "      <td>1</td>\n",
       "      <td>2020-01-30</td>\n",
       "      <td>6:00 PM</td>\n",
       "      <td>Kerala</td>\n",
       "      <td>1</td>\n",
       "      <td>0</td>\n",
       "      <td>0</td>\n",
       "      <td>0</td>\n",
       "      <td>1</td>\n",
       "    </tr>\n",
       "    <tr>\n",
       "      <th>1</th>\n",
       "      <td>2</td>\n",
       "      <td>2020-01-31</td>\n",
       "      <td>6:00 PM</td>\n",
       "      <td>Kerala</td>\n",
       "      <td>1</td>\n",
       "      <td>0</td>\n",
       "      <td>0</td>\n",
       "      <td>0</td>\n",
       "      <td>1</td>\n",
       "    </tr>\n",
       "    <tr>\n",
       "      <th>2</th>\n",
       "      <td>3</td>\n",
       "      <td>2020-02-01</td>\n",
       "      <td>6:00 PM</td>\n",
       "      <td>Kerala</td>\n",
       "      <td>2</td>\n",
       "      <td>0</td>\n",
       "      <td>0</td>\n",
       "      <td>0</td>\n",
       "      <td>2</td>\n",
       "    </tr>\n",
       "    <tr>\n",
       "      <th>3</th>\n",
       "      <td>4</td>\n",
       "      <td>2020-02-02</td>\n",
       "      <td>6:00 PM</td>\n",
       "      <td>Kerala</td>\n",
       "      <td>3</td>\n",
       "      <td>0</td>\n",
       "      <td>0</td>\n",
       "      <td>0</td>\n",
       "      <td>3</td>\n",
       "    </tr>\n",
       "    <tr>\n",
       "      <th>4</th>\n",
       "      <td>5</td>\n",
       "      <td>2020-02-03</td>\n",
       "      <td>6:00 PM</td>\n",
       "      <td>Kerala</td>\n",
       "      <td>3</td>\n",
       "      <td>0</td>\n",
       "      <td>0</td>\n",
       "      <td>0</td>\n",
       "      <td>3</td>\n",
       "    </tr>\n",
       "  </tbody>\n",
       "</table>\n",
       "</div>"
      ],
      "text/plain": [
       "   Sno       Date     Time State/UnionTerritory ConfirmedIndianNational  \\\n",
       "0    1 2020-01-30  6:00 PM               Kerala                       1   \n",
       "1    2 2020-01-31  6:00 PM               Kerala                       1   \n",
       "2    3 2020-02-01  6:00 PM               Kerala                       2   \n",
       "3    4 2020-02-02  6:00 PM               Kerala                       3   \n",
       "4    5 2020-02-03  6:00 PM               Kerala                       3   \n",
       "\n",
       "  ConfirmedForeignNational  Cured  Deaths  Confirmed  \n",
       "0                        0      0       0          1  \n",
       "1                        0      0       0          1  \n",
       "2                        0      0       0          2  \n",
       "3                        0      0       0          3  \n",
       "4                        0      0       0          3  "
      ]
     },
     "execution_count": 4,
     "metadata": {},
     "output_type": "execute_result"
    }
   ],
   "source": [
    "covid.head()"
   ]
  },
  {
   "cell_type": "markdown",
   "metadata": {},
   "source": [
    "## Filtering some columns in dataset.."
   ]
  },
  {
   "cell_type": "code",
   "execution_count": 5,
   "metadata": {},
   "outputs": [],
   "source": [
    "covid = covid[['Date','State/UnionTerritory','Cured','Deaths','Confirmed']]\n",
    "covid.columns = ['date','state','cured','deaths','confirmed']"
   ]
  },
  {
   "cell_type": "code",
   "execution_count": 6,
   "metadata": {
    "scrolled": true
   },
   "outputs": [
    {
     "data": {
      "text/html": [
       "<div>\n",
       "<style scoped>\n",
       "    .dataframe tbody tr th:only-of-type {\n",
       "        vertical-align: middle;\n",
       "    }\n",
       "\n",
       "    .dataframe tbody tr th {\n",
       "        vertical-align: top;\n",
       "    }\n",
       "\n",
       "    .dataframe thead th {\n",
       "        text-align: right;\n",
       "    }\n",
       "</style>\n",
       "<table border=\"1\" class=\"dataframe\">\n",
       "  <thead>\n",
       "    <tr style=\"text-align: right;\">\n",
       "      <th></th>\n",
       "      <th>date</th>\n",
       "      <th>state</th>\n",
       "      <th>cured</th>\n",
       "      <th>deaths</th>\n",
       "      <th>confirmed</th>\n",
       "    </tr>\n",
       "  </thead>\n",
       "  <tbody>\n",
       "    <tr>\n",
       "      <th>0</th>\n",
       "      <td>2020-01-30</td>\n",
       "      <td>Kerala</td>\n",
       "      <td>0</td>\n",
       "      <td>0</td>\n",
       "      <td>1</td>\n",
       "    </tr>\n",
       "    <tr>\n",
       "      <th>1</th>\n",
       "      <td>2020-01-31</td>\n",
       "      <td>Kerala</td>\n",
       "      <td>0</td>\n",
       "      <td>0</td>\n",
       "      <td>1</td>\n",
       "    </tr>\n",
       "    <tr>\n",
       "      <th>2</th>\n",
       "      <td>2020-02-01</td>\n",
       "      <td>Kerala</td>\n",
       "      <td>0</td>\n",
       "      <td>0</td>\n",
       "      <td>2</td>\n",
       "    </tr>\n",
       "    <tr>\n",
       "      <th>3</th>\n",
       "      <td>2020-02-02</td>\n",
       "      <td>Kerala</td>\n",
       "      <td>0</td>\n",
       "      <td>0</td>\n",
       "      <td>3</td>\n",
       "    </tr>\n",
       "    <tr>\n",
       "      <th>4</th>\n",
       "      <td>2020-02-03</td>\n",
       "      <td>Kerala</td>\n",
       "      <td>0</td>\n",
       "      <td>0</td>\n",
       "      <td>3</td>\n",
       "    </tr>\n",
       "  </tbody>\n",
       "</table>\n",
       "</div>"
      ],
      "text/plain": [
       "        date   state  cured  deaths  confirmed\n",
       "0 2020-01-30  Kerala      0       0          1\n",
       "1 2020-01-31  Kerala      0       0          1\n",
       "2 2020-02-01  Kerala      0       0          2\n",
       "3 2020-02-02  Kerala      0       0          3\n",
       "4 2020-02-03  Kerala      0       0          3"
      ]
     },
     "execution_count": 6,
     "metadata": {},
     "output_type": "execute_result"
    }
   ],
   "source": [
    "covid.head()"
   ]
  },
  {
   "cell_type": "code",
   "execution_count": 7,
   "metadata": {},
   "outputs": [
    {
     "data": {
      "text/html": [
       "<div>\n",
       "<style scoped>\n",
       "    .dataframe tbody tr th:only-of-type {\n",
       "        vertical-align: middle;\n",
       "    }\n",
       "\n",
       "    .dataframe tbody tr th {\n",
       "        vertical-align: top;\n",
       "    }\n",
       "\n",
       "    .dataframe thead th {\n",
       "        text-align: right;\n",
       "    }\n",
       "</style>\n",
       "<table border=\"1\" class=\"dataframe\">\n",
       "  <thead>\n",
       "    <tr style=\"text-align: right;\">\n",
       "      <th></th>\n",
       "      <th>date</th>\n",
       "      <th>state</th>\n",
       "      <th>cured</th>\n",
       "      <th>deaths</th>\n",
       "      <th>confirmed</th>\n",
       "    </tr>\n",
       "  </thead>\n",
       "  <tbody>\n",
       "    <tr>\n",
       "      <th>14397</th>\n",
       "      <td>2021-04-30</td>\n",
       "      <td>Telangana</td>\n",
       "      <td>355618</td>\n",
       "      <td>2261</td>\n",
       "      <td>435606</td>\n",
       "    </tr>\n",
       "    <tr>\n",
       "      <th>14398</th>\n",
       "      <td>2021-04-30</td>\n",
       "      <td>Tripura</td>\n",
       "      <td>33612</td>\n",
       "      <td>396</td>\n",
       "      <td>35169</td>\n",
       "    </tr>\n",
       "    <tr>\n",
       "      <th>14399</th>\n",
       "      <td>2021-04-30</td>\n",
       "      <td>Uttarakhand</td>\n",
       "      <td>124046</td>\n",
       "      <td>2502</td>\n",
       "      <td>174867</td>\n",
       "    </tr>\n",
       "    <tr>\n",
       "      <th>14400</th>\n",
       "      <td>2021-04-30</td>\n",
       "      <td>Uttar Pradesh</td>\n",
       "      <td>896477</td>\n",
       "      <td>12238</td>\n",
       "      <td>1217952</td>\n",
       "    </tr>\n",
       "    <tr>\n",
       "      <th>14401</th>\n",
       "      <td>2021-04-30</td>\n",
       "      <td>West Bengal</td>\n",
       "      <td>689466</td>\n",
       "      <td>11248</td>\n",
       "      <td>810955</td>\n",
       "    </tr>\n",
       "  </tbody>\n",
       "</table>\n",
       "</div>"
      ],
      "text/plain": [
       "            date          state   cured  deaths  confirmed\n",
       "14397 2021-04-30      Telangana  355618    2261     435606\n",
       "14398 2021-04-30        Tripura   33612     396      35169\n",
       "14399 2021-04-30    Uttarakhand  124046    2502     174867\n",
       "14400 2021-04-30  Uttar Pradesh  896477   12238    1217952\n",
       "14401 2021-04-30    West Bengal  689466   11248     810955"
      ]
     },
     "execution_count": 7,
     "metadata": {},
     "output_type": "execute_result"
    }
   ],
   "source": [
    "covid.tail()"
   ]
  },
  {
   "cell_type": "code",
   "execution_count": 8,
   "metadata": {},
   "outputs": [
    {
     "data": {
      "text/plain": [
       "(14402, 5)"
      ]
     },
     "execution_count": 8,
     "metadata": {},
     "output_type": "execute_result"
    }
   ],
   "source": [
    "covid.shape"
   ]
  },
  {
   "cell_type": "code",
   "execution_count": 9,
   "metadata": {},
   "outputs": [],
   "source": [
    "today=covid[covid.date=='2021-04-30']"
   ]
  },
  {
   "cell_type": "code",
   "execution_count": 10,
   "metadata": {},
   "outputs": [
    {
     "data": {
      "text/plain": [
       "(36, 5)"
      ]
     },
     "execution_count": 10,
     "metadata": {},
     "output_type": "execute_result"
    }
   ],
   "source": [
    "today.shape"
   ]
  },
  {
   "cell_type": "code",
   "execution_count": 11,
   "metadata": {},
   "outputs": [
    {
     "data": {
      "text/html": [
       "<div>\n",
       "<style scoped>\n",
       "    .dataframe tbody tr th:only-of-type {\n",
       "        vertical-align: middle;\n",
       "    }\n",
       "\n",
       "    .dataframe tbody tr th {\n",
       "        vertical-align: top;\n",
       "    }\n",
       "\n",
       "    .dataframe thead th {\n",
       "        text-align: right;\n",
       "    }\n",
       "</style>\n",
       "<table border=\"1\" class=\"dataframe\">\n",
       "  <thead>\n",
       "    <tr style=\"text-align: right;\">\n",
       "      <th></th>\n",
       "      <th>date</th>\n",
       "      <th>state</th>\n",
       "      <th>cured</th>\n",
       "      <th>deaths</th>\n",
       "      <th>confirmed</th>\n",
       "    </tr>\n",
       "  </thead>\n",
       "  <tbody>\n",
       "    <tr>\n",
       "      <th>14366</th>\n",
       "      <td>2021-04-30</td>\n",
       "      <td>Andaman and Nicobar Islands</td>\n",
       "      <td>5643</td>\n",
       "      <td>67</td>\n",
       "      <td>5875</td>\n",
       "    </tr>\n",
       "    <tr>\n",
       "      <th>14367</th>\n",
       "      <td>2021-04-30</td>\n",
       "      <td>Andhra Pradesh</td>\n",
       "      <td>962250</td>\n",
       "      <td>7928</td>\n",
       "      <td>1084336</td>\n",
       "    </tr>\n",
       "    <tr>\n",
       "      <th>14368</th>\n",
       "      <td>2021-04-30</td>\n",
       "      <td>Arunachal Pradesh</td>\n",
       "      <td>17085</td>\n",
       "      <td>59</td>\n",
       "      <td>18256</td>\n",
       "    </tr>\n",
       "    <tr>\n",
       "      <th>14369</th>\n",
       "      <td>2021-04-30</td>\n",
       "      <td>Assam</td>\n",
       "      <td>224194</td>\n",
       "      <td>1281</td>\n",
       "      <td>249926</td>\n",
       "    </tr>\n",
       "    <tr>\n",
       "      <th>14370</th>\n",
       "      <td>2021-04-30</td>\n",
       "      <td>Bihar</td>\n",
       "      <td>351162</td>\n",
       "      <td>2480</td>\n",
       "      <td>454464</td>\n",
       "    </tr>\n",
       "  </tbody>\n",
       "</table>\n",
       "</div>"
      ],
      "text/plain": [
       "            date                        state   cured  deaths  confirmed\n",
       "14366 2021-04-30  Andaman and Nicobar Islands    5643      67       5875\n",
       "14367 2021-04-30               Andhra Pradesh  962250    7928    1084336\n",
       "14368 2021-04-30            Arunachal Pradesh   17085      59      18256\n",
       "14369 2021-04-30                        Assam  224194    1281     249926\n",
       "14370 2021-04-30                        Bihar  351162    2480     454464"
      ]
     },
     "execution_count": 11,
     "metadata": {},
     "output_type": "execute_result"
    }
   ],
   "source": [
    "today.head()"
   ]
  },
  {
   "cell_type": "code",
   "execution_count": 12,
   "metadata": {},
   "outputs": [],
   "source": [
    "#Sorting data w.r.t confirmed cases..\n",
    "max_confirmed_cases = today.sort_values(by='confirmed', ascending=False)"
   ]
  },
  {
   "cell_type": "markdown",
   "metadata": {},
   "source": [
    "### Maximum  confirmed Cases State.."
   ]
  },
  {
   "cell_type": "code",
   "execution_count": 13,
   "metadata": {},
   "outputs": [
    {
     "data": {
      "text/plain": [
       "(36, 5)"
      ]
     },
     "execution_count": 13,
     "metadata": {},
     "output_type": "execute_result"
    }
   ],
   "source": [
    "max_confirmed_cases.shape"
   ]
  },
  {
   "cell_type": "code",
   "execution_count": 14,
   "metadata": {},
   "outputs": [
    {
     "data": {
      "text/html": [
       "<div>\n",
       "<style scoped>\n",
       "    .dataframe tbody tr th:only-of-type {\n",
       "        vertical-align: middle;\n",
       "    }\n",
       "\n",
       "    .dataframe tbody tr th {\n",
       "        vertical-align: top;\n",
       "    }\n",
       "\n",
       "    .dataframe thead th {\n",
       "        text-align: right;\n",
       "    }\n",
       "</style>\n",
       "<table border=\"1\" class=\"dataframe\">\n",
       "  <thead>\n",
       "    <tr style=\"text-align: right;\">\n",
       "      <th></th>\n",
       "      <th>date</th>\n",
       "      <th>state</th>\n",
       "      <th>cured</th>\n",
       "      <th>deaths</th>\n",
       "      <th>confirmed</th>\n",
       "    </tr>\n",
       "  </thead>\n",
       "  <tbody>\n",
       "    <tr>\n",
       "      <th>14386</th>\n",
       "      <td>2021-04-30</td>\n",
       "      <td>Maharashtra</td>\n",
       "      <td>3799266</td>\n",
       "      <td>67985</td>\n",
       "      <td>4539553</td>\n",
       "    </tr>\n",
       "    <tr>\n",
       "      <th>14382</th>\n",
       "      <td>2021-04-30</td>\n",
       "      <td>Kerala</td>\n",
       "      <td>1244301</td>\n",
       "      <td>5259</td>\n",
       "      <td>1533984</td>\n",
       "    </tr>\n",
       "    <tr>\n",
       "      <th>14381</th>\n",
       "      <td>2021-04-30</td>\n",
       "      <td>Karnataka</td>\n",
       "      <td>1110025</td>\n",
       "      <td>15306</td>\n",
       "      <td>1474846</td>\n",
       "    </tr>\n",
       "    <tr>\n",
       "      <th>14400</th>\n",
       "      <td>2021-04-30</td>\n",
       "      <td>Uttar Pradesh</td>\n",
       "      <td>896477</td>\n",
       "      <td>12238</td>\n",
       "      <td>1217952</td>\n",
       "    </tr>\n",
       "    <tr>\n",
       "      <th>14396</th>\n",
       "      <td>2021-04-30</td>\n",
       "      <td>Tamil Nadu</td>\n",
       "      <td>1021575</td>\n",
       "      <td>13933</td>\n",
       "      <td>1148064</td>\n",
       "    </tr>\n",
       "    <tr>\n",
       "      <th>14374</th>\n",
       "      <td>2021-04-30</td>\n",
       "      <td>Delhi</td>\n",
       "      <td>1008537</td>\n",
       "      <td>15772</td>\n",
       "      <td>1122286</td>\n",
       "    </tr>\n",
       "    <tr>\n",
       "      <th>14367</th>\n",
       "      <td>2021-04-30</td>\n",
       "      <td>Andhra Pradesh</td>\n",
       "      <td>962250</td>\n",
       "      <td>7928</td>\n",
       "      <td>1084336</td>\n",
       "    </tr>\n",
       "    <tr>\n",
       "      <th>14401</th>\n",
       "      <td>2021-04-30</td>\n",
       "      <td>West Bengal</td>\n",
       "      <td>689466</td>\n",
       "      <td>11248</td>\n",
       "      <td>810955</td>\n",
       "    </tr>\n",
       "    <tr>\n",
       "      <th>14372</th>\n",
       "      <td>2021-04-30</td>\n",
       "      <td>Chhattisgarh</td>\n",
       "      <td>587484</td>\n",
       "      <td>8312</td>\n",
       "      <td>713706</td>\n",
       "    </tr>\n",
       "    <tr>\n",
       "      <th>14394</th>\n",
       "      <td>2021-04-30</td>\n",
       "      <td>Rajasthan</td>\n",
       "      <td>407243</td>\n",
       "      <td>4084</td>\n",
       "      <td>580846</td>\n",
       "    </tr>\n",
       "    <tr>\n",
       "      <th>14376</th>\n",
       "      <td>2021-04-30</td>\n",
       "      <td>Gujarat</td>\n",
       "      <td>408368</td>\n",
       "      <td>7010</td>\n",
       "      <td>553172</td>\n",
       "    </tr>\n",
       "    <tr>\n",
       "      <th>14385</th>\n",
       "      <td>2021-04-30</td>\n",
       "      <td>Madhya Pradesh</td>\n",
       "      <td>453331</td>\n",
       "      <td>5519</td>\n",
       "      <td>550927</td>\n",
       "    </tr>\n",
       "    <tr>\n",
       "      <th>14377</th>\n",
       "      <td>2021-04-30</td>\n",
       "      <td>Haryana</td>\n",
       "      <td>376852</td>\n",
       "      <td>4118</td>\n",
       "      <td>474145</td>\n",
       "    </tr>\n",
       "    <tr>\n",
       "      <th>14370</th>\n",
       "      <td>2021-04-30</td>\n",
       "      <td>Bihar</td>\n",
       "      <td>351162</td>\n",
       "      <td>2480</td>\n",
       "      <td>454464</td>\n",
       "    </tr>\n",
       "    <tr>\n",
       "      <th>14397</th>\n",
       "      <td>2021-04-30</td>\n",
       "      <td>Telangana</td>\n",
       "      <td>355618</td>\n",
       "      <td>2261</td>\n",
       "      <td>435606</td>\n",
       "    </tr>\n",
       "    <tr>\n",
       "      <th>14391</th>\n",
       "      <td>2021-04-30</td>\n",
       "      <td>Odisha</td>\n",
       "      <td>380400</td>\n",
       "      <td>2029</td>\n",
       "      <td>435513</td>\n",
       "    </tr>\n",
       "    <tr>\n",
       "      <th>14393</th>\n",
       "      <td>2021-04-30</td>\n",
       "      <td>Punjab</td>\n",
       "      <td>301047</td>\n",
       "      <td>8909</td>\n",
       "      <td>364910</td>\n",
       "    </tr>\n",
       "    <tr>\n",
       "      <th>14369</th>\n",
       "      <td>2021-04-30</td>\n",
       "      <td>Assam</td>\n",
       "      <td>224194</td>\n",
       "      <td>1281</td>\n",
       "      <td>249926</td>\n",
       "    </tr>\n",
       "    <tr>\n",
       "      <th>14380</th>\n",
       "      <td>2021-04-30</td>\n",
       "      <td>Jharkhand</td>\n",
       "      <td>169033</td>\n",
       "      <td>2540</td>\n",
       "      <td>227450</td>\n",
       "    </tr>\n",
       "    <tr>\n",
       "      <th>14399</th>\n",
       "      <td>2021-04-30</td>\n",
       "      <td>Uttarakhand</td>\n",
       "      <td>124046</td>\n",
       "      <td>2502</td>\n",
       "      <td>174867</td>\n",
       "    </tr>\n",
       "    <tr>\n",
       "      <th>14379</th>\n",
       "      <td>2021-04-30</td>\n",
       "      <td>Jammu and Kashmir</td>\n",
       "      <td>144154</td>\n",
       "      <td>2253</td>\n",
       "      <td>172551</td>\n",
       "    </tr>\n",
       "    <tr>\n",
       "      <th>14378</th>\n",
       "      <td>2021-04-30</td>\n",
       "      <td>Himachal Pradesh</td>\n",
       "      <td>77634</td>\n",
       "      <td>1460</td>\n",
       "      <td>96929</td>\n",
       "    </tr>\n",
       "    <tr>\n",
       "      <th>14375</th>\n",
       "      <td>2021-04-30</td>\n",
       "      <td>Goa</td>\n",
       "      <td>65984</td>\n",
       "      <td>1146</td>\n",
       "      <td>88028</td>\n",
       "    </tr>\n",
       "    <tr>\n",
       "      <th>14392</th>\n",
       "      <td>2021-04-30</td>\n",
       "      <td>Puducherry</td>\n",
       "      <td>47645</td>\n",
       "      <td>793</td>\n",
       "      <td>57427</td>\n",
       "    </tr>\n",
       "    <tr>\n",
       "      <th>14371</th>\n",
       "      <td>2021-04-30</td>\n",
       "      <td>Chandigarh</td>\n",
       "      <td>34806</td>\n",
       "      <td>465</td>\n",
       "      <td>41923</td>\n",
       "    </tr>\n",
       "    <tr>\n",
       "      <th>14398</th>\n",
       "      <td>2021-04-30</td>\n",
       "      <td>Tripura</td>\n",
       "      <td>33612</td>\n",
       "      <td>396</td>\n",
       "      <td>35169</td>\n",
       "    </tr>\n",
       "    <tr>\n",
       "      <th>14387</th>\n",
       "      <td>2021-04-30</td>\n",
       "      <td>Manipur</td>\n",
       "      <td>29690</td>\n",
       "      <td>400</td>\n",
       "      <td>31315</td>\n",
       "    </tr>\n",
       "    <tr>\n",
       "      <th>14368</th>\n",
       "      <td>2021-04-30</td>\n",
       "      <td>Arunachal Pradesh</td>\n",
       "      <td>17085</td>\n",
       "      <td>59</td>\n",
       "      <td>18256</td>\n",
       "    </tr>\n",
       "    <tr>\n",
       "      <th>14388</th>\n",
       "      <td>2021-04-30</td>\n",
       "      <td>Meghalaya</td>\n",
       "      <td>14917</td>\n",
       "      <td>169</td>\n",
       "      <td>16617</td>\n",
       "    </tr>\n",
       "    <tr>\n",
       "      <th>14383</th>\n",
       "      <td>2021-04-30</td>\n",
       "      <td>Ladakh</td>\n",
       "      <td>12129</td>\n",
       "      <td>140</td>\n",
       "      <td>13866</td>\n",
       "    </tr>\n",
       "    <tr>\n",
       "      <th>14390</th>\n",
       "      <td>2021-04-30</td>\n",
       "      <td>Nagaland</td>\n",
       "      <td>12577</td>\n",
       "      <td>100</td>\n",
       "      <td>13750</td>\n",
       "    </tr>\n",
       "    <tr>\n",
       "      <th>14395</th>\n",
       "      <td>2021-04-30</td>\n",
       "      <td>Sikkim</td>\n",
       "      <td>6354</td>\n",
       "      <td>146</td>\n",
       "      <td>7747</td>\n",
       "    </tr>\n",
       "    <tr>\n",
       "      <th>14373</th>\n",
       "      <td>2021-04-30</td>\n",
       "      <td>Dadra and Nagar Haveli and Daman and Diu</td>\n",
       "      <td>5249</td>\n",
       "      <td>4</td>\n",
       "      <td>7334</td>\n",
       "    </tr>\n",
       "    <tr>\n",
       "      <th>14389</th>\n",
       "      <td>2021-04-30</td>\n",
       "      <td>Mizoram</td>\n",
       "      <td>4882</td>\n",
       "      <td>14</td>\n",
       "      <td>6019</td>\n",
       "    </tr>\n",
       "    <tr>\n",
       "      <th>14366</th>\n",
       "      <td>2021-04-30</td>\n",
       "      <td>Andaman and Nicobar Islands</td>\n",
       "      <td>5643</td>\n",
       "      <td>67</td>\n",
       "      <td>5875</td>\n",
       "    </tr>\n",
       "    <tr>\n",
       "      <th>14384</th>\n",
       "      <td>2021-04-30</td>\n",
       "      <td>Lakshadweep</td>\n",
       "      <td>1382</td>\n",
       "      <td>4</td>\n",
       "      <td>2662</td>\n",
       "    </tr>\n",
       "  </tbody>\n",
       "</table>\n",
       "</div>"
      ],
      "text/plain": [
       "            date                                     state    cured  deaths  \\\n",
       "14386 2021-04-30                               Maharashtra  3799266   67985   \n",
       "14382 2021-04-30                                    Kerala  1244301    5259   \n",
       "14381 2021-04-30                                 Karnataka  1110025   15306   \n",
       "14400 2021-04-30                             Uttar Pradesh   896477   12238   \n",
       "14396 2021-04-30                                Tamil Nadu  1021575   13933   \n",
       "14374 2021-04-30                                     Delhi  1008537   15772   \n",
       "14367 2021-04-30                            Andhra Pradesh   962250    7928   \n",
       "14401 2021-04-30                               West Bengal   689466   11248   \n",
       "14372 2021-04-30                              Chhattisgarh   587484    8312   \n",
       "14394 2021-04-30                                 Rajasthan   407243    4084   \n",
       "14376 2021-04-30                                   Gujarat   408368    7010   \n",
       "14385 2021-04-30                            Madhya Pradesh   453331    5519   \n",
       "14377 2021-04-30                                   Haryana   376852    4118   \n",
       "14370 2021-04-30                                     Bihar   351162    2480   \n",
       "14397 2021-04-30                                 Telangana   355618    2261   \n",
       "14391 2021-04-30                                    Odisha   380400    2029   \n",
       "14393 2021-04-30                                    Punjab   301047    8909   \n",
       "14369 2021-04-30                                     Assam   224194    1281   \n",
       "14380 2021-04-30                                 Jharkhand   169033    2540   \n",
       "14399 2021-04-30                               Uttarakhand   124046    2502   \n",
       "14379 2021-04-30                         Jammu and Kashmir   144154    2253   \n",
       "14378 2021-04-30                          Himachal Pradesh    77634    1460   \n",
       "14375 2021-04-30                                       Goa    65984    1146   \n",
       "14392 2021-04-30                                Puducherry    47645     793   \n",
       "14371 2021-04-30                                Chandigarh    34806     465   \n",
       "14398 2021-04-30                                   Tripura    33612     396   \n",
       "14387 2021-04-30                                   Manipur    29690     400   \n",
       "14368 2021-04-30                         Arunachal Pradesh    17085      59   \n",
       "14388 2021-04-30                                 Meghalaya    14917     169   \n",
       "14383 2021-04-30                                    Ladakh    12129     140   \n",
       "14390 2021-04-30                                  Nagaland    12577     100   \n",
       "14395 2021-04-30                                    Sikkim     6354     146   \n",
       "14373 2021-04-30  Dadra and Nagar Haveli and Daman and Diu     5249       4   \n",
       "14389 2021-04-30                                   Mizoram     4882      14   \n",
       "14366 2021-04-30               Andaman and Nicobar Islands     5643      67   \n",
       "14384 2021-04-30                               Lakshadweep     1382       4   \n",
       "\n",
       "       confirmed  \n",
       "14386    4539553  \n",
       "14382    1533984  \n",
       "14381    1474846  \n",
       "14400    1217952  \n",
       "14396    1148064  \n",
       "14374    1122286  \n",
       "14367    1084336  \n",
       "14401     810955  \n",
       "14372     713706  \n",
       "14394     580846  \n",
       "14376     553172  \n",
       "14385     550927  \n",
       "14377     474145  \n",
       "14370     454464  \n",
       "14397     435606  \n",
       "14391     435513  \n",
       "14393     364910  \n",
       "14369     249926  \n",
       "14380     227450  \n",
       "14399     174867  \n",
       "14379     172551  \n",
       "14378      96929  \n",
       "14375      88028  \n",
       "14392      57427  \n",
       "14371      41923  \n",
       "14398      35169  \n",
       "14387      31315  \n",
       "14368      18256  \n",
       "14388      16617  \n",
       "14383      13866  \n",
       "14390      13750  \n",
       "14395       7747  \n",
       "14373       7334  \n",
       "14389       6019  \n",
       "14366       5875  \n",
       "14384       2662  "
      ]
     },
     "execution_count": 14,
     "metadata": {},
     "output_type": "execute_result"
    }
   ],
   "source": [
    "max_confirmed_cases.head(36)"
   ]
  },
  {
   "cell_type": "code",
   "execution_count": 15,
   "metadata": {},
   "outputs": [],
   "source": [
    "top_states_confirmed = max_confirmed_cases[0:10]"
   ]
  },
  {
   "cell_type": "code",
   "execution_count": 16,
   "metadata": {},
   "outputs": [
    {
     "data": {
      "image/png": "[encoded data removed]",
      "text/plain": [
       "<Figure size 864x504 with 1 Axes>"
      ]
     },
     "metadata": {},
     "output_type": "display_data"
    }
   ],
   "source": [
    "sns.set(rc={'figure.figsize':(12,7)})\n",
    "sns.barplot(x=\"state\",y=\"confirmed\",data=top_states_confirmed,hue='state')\n",
    "plt.show()"
   ]
  },
  {
   "cell_type": "markdown",
   "metadata": {},
   "source": [
    "### maximum deaths cases State.."
   ]
  },
  {
   "cell_type": "code",
   "execution_count": 17,
   "metadata": {},
   "outputs": [],
   "source": [
    "\n",
    "max_death_cases = today.sort_values(by='deaths',ascending=False)"
   ]
  },
  {
   "cell_type": "code",
   "execution_count": 18,
   "metadata": {},
   "outputs": [
    {
     "data": {
      "text/html": [
       "<div>\n",
       "<style scoped>\n",
       "    .dataframe tbody tr th:only-of-type {\n",
       "        vertical-align: middle;\n",
       "    }\n",
       "\n",
       "    .dataframe tbody tr th {\n",
       "        vertical-align: top;\n",
       "    }\n",
       "\n",
       "    .dataframe thead th {\n",
       "        text-align: right;\n",
       "    }\n",
       "</style>\n",
       "<table border=\"1\" class=\"dataframe\">\n",
       "  <thead>\n",
       "    <tr style=\"text-align: right;\">\n",
       "      <th></th>\n",
       "      <th>date</th>\n",
       "      <th>state</th>\n",
       "      <th>cured</th>\n",
       "      <th>deaths</th>\n",
       "      <th>confirmed</th>\n",
       "    </tr>\n",
       "  </thead>\n",
       "  <tbody>\n",
       "    <tr>\n",
       "      <th>14386</th>\n",
       "      <td>2021-04-30</td>\n",
       "      <td>Maharashtra</td>\n",
       "      <td>3799266</td>\n",
       "      <td>67985</td>\n",
       "      <td>4539553</td>\n",
       "    </tr>\n",
       "    <tr>\n",
       "      <th>14374</th>\n",
       "      <td>2021-04-30</td>\n",
       "      <td>Delhi</td>\n",
       "      <td>1008537</td>\n",
       "      <td>15772</td>\n",
       "      <td>1122286</td>\n",
       "    </tr>\n",
       "    <tr>\n",
       "      <th>14381</th>\n",
       "      <td>2021-04-30</td>\n",
       "      <td>Karnataka</td>\n",
       "      <td>1110025</td>\n",
       "      <td>15306</td>\n",
       "      <td>1474846</td>\n",
       "    </tr>\n",
       "    <tr>\n",
       "      <th>14396</th>\n",
       "      <td>2021-04-30</td>\n",
       "      <td>Tamil Nadu</td>\n",
       "      <td>1021575</td>\n",
       "      <td>13933</td>\n",
       "      <td>1148064</td>\n",
       "    </tr>\n",
       "    <tr>\n",
       "      <th>14400</th>\n",
       "      <td>2021-04-30</td>\n",
       "      <td>Uttar Pradesh</td>\n",
       "      <td>896477</td>\n",
       "      <td>12238</td>\n",
       "      <td>1217952</td>\n",
       "    </tr>\n",
       "  </tbody>\n",
       "</table>\n",
       "</div>"
      ],
      "text/plain": [
       "            date          state    cured  deaths  confirmed\n",
       "14386 2021-04-30    Maharashtra  3799266   67985    4539553\n",
       "14374 2021-04-30          Delhi  1008537   15772    1122286\n",
       "14381 2021-04-30      Karnataka  1110025   15306    1474846\n",
       "14396 2021-04-30     Tamil Nadu  1021575   13933    1148064\n",
       "14400 2021-04-30  Uttar Pradesh   896477   12238    1217952"
      ]
     },
     "execution_count": 18,
     "metadata": {},
     "output_type": "execute_result"
    }
   ],
   "source": [
    "max_death_cases.head()"
   ]
  },
  {
   "cell_type": "code",
   "execution_count": 19,
   "metadata": {},
   "outputs": [],
   "source": [
    "top_state_deaths = max_death_cases[0:10]"
   ]
  },
  {
   "cell_type": "code",
   "execution_count": 20,
   "metadata": {},
   "outputs": [
    {
     "data": {
      "image/png": "[encoded data removed]",
      "text/plain": [
       "<Figure size 864x648 with 1 Axes>"
      ]
     },
     "metadata": {},
     "output_type": "display_data"
    }
   ],
   "source": [
    "sns.set(rc={'figure.figsize':(12,9)})\n",
    "sns.barplot(x=\"state\",y=\"deaths\",data=top_state_deaths,hue='state')\n",
    "plt.show()"
   ]
  },
  {
   "cell_type": "markdown",
   "metadata": {},
   "source": [
    "###  Maximum Cured Cases State....."
   ]
  },
  {
   "cell_type": "code",
   "execution_count": 21,
   "metadata": {},
   "outputs": [],
   "source": [
    "max_cured_cases = today.sort_values(by='cured',ascending=False)"
   ]
  },
  {
   "cell_type": "code",
   "execution_count": 22,
   "metadata": {},
   "outputs": [
    {
     "data": {
      "text/html": [
       "<div>\n",
       "<style scoped>\n",
       "    .dataframe tbody tr th:only-of-type {\n",
       "        vertical-align: middle;\n",
       "    }\n",
       "\n",
       "    .dataframe tbody tr th {\n",
       "        vertical-align: top;\n",
       "    }\n",
       "\n",
       "    .dataframe thead th {\n",
       "        text-align: right;\n",
       "    }\n",
       "</style>\n",
       "<table border=\"1\" class=\"dataframe\">\n",
       "  <thead>\n",
       "    <tr style=\"text-align: right;\">\n",
       "      <th></th>\n",
       "      <th>date</th>\n",
       "      <th>state</th>\n",
       "      <th>cured</th>\n",
       "      <th>deaths</th>\n",
       "      <th>confirmed</th>\n",
       "    </tr>\n",
       "  </thead>\n",
       "  <tbody>\n",
       "    <tr>\n",
       "      <th>14386</th>\n",
       "      <td>2021-04-30</td>\n",
       "      <td>Maharashtra</td>\n",
       "      <td>3799266</td>\n",
       "      <td>67985</td>\n",
       "      <td>4539553</td>\n",
       "    </tr>\n",
       "    <tr>\n",
       "      <th>14382</th>\n",
       "      <td>2021-04-30</td>\n",
       "      <td>Kerala</td>\n",
       "      <td>1244301</td>\n",
       "      <td>5259</td>\n",
       "      <td>1533984</td>\n",
       "    </tr>\n",
       "    <tr>\n",
       "      <th>14381</th>\n",
       "      <td>2021-04-30</td>\n",
       "      <td>Karnataka</td>\n",
       "      <td>1110025</td>\n",
       "      <td>15306</td>\n",
       "      <td>1474846</td>\n",
       "    </tr>\n",
       "    <tr>\n",
       "      <th>14396</th>\n",
       "      <td>2021-04-30</td>\n",
       "      <td>Tamil Nadu</td>\n",
       "      <td>1021575</td>\n",
       "      <td>13933</td>\n",
       "      <td>1148064</td>\n",
       "    </tr>\n",
       "    <tr>\n",
       "      <th>14374</th>\n",
       "      <td>2021-04-30</td>\n",
       "      <td>Delhi</td>\n",
       "      <td>1008537</td>\n",
       "      <td>15772</td>\n",
       "      <td>1122286</td>\n",
       "    </tr>\n",
       "  </tbody>\n",
       "</table>\n",
       "</div>"
      ],
      "text/plain": [
       "            date        state    cured  deaths  confirmed\n",
       "14386 2021-04-30  Maharashtra  3799266   67985    4539553\n",
       "14382 2021-04-30       Kerala  1244301    5259    1533984\n",
       "14381 2021-04-30    Karnataka  1110025   15306    1474846\n",
       "14396 2021-04-30   Tamil Nadu  1021575   13933    1148064\n",
       "14374 2021-04-30        Delhi  1008537   15772    1122286"
      ]
     },
     "execution_count": 22,
     "metadata": {},
     "output_type": "execute_result"
    }
   ],
   "source": [
    "max_cured_cases.head()"
   ]
  },
  {
   "cell_type": "code",
   "execution_count": 23,
   "metadata": {},
   "outputs": [],
   "source": [
    "top_cured_State= max_cured_cases[0:10]"
   ]
  },
  {
   "cell_type": "code",
   "execution_count": 24,
   "metadata": {},
   "outputs": [
    {
     "data": {
      "image/png": "[encoded data removed]",
      "text/plain": [
       "<Figure size 864x576 with 1 Axes>"
      ]
     },
     "metadata": {},
     "output_type": "display_data"
    }
   ],
   "source": [
    "sns.set(rc={'figure.figsize':(12,8)})\n",
    "sns.barplot(x=\"state\",y=\"cured\",data=top_cured_State,hue='state')\n",
    "plt.show()"
   ]
  },
  {
   "cell_type": "markdown",
   "metadata": {},
   "source": [
    "####  MAHARASTRA,,,"
   ]
  },
  {
   "cell_type": "code",
   "execution_count": 25,
   "metadata": {},
   "outputs": [],
   "source": [
    "maha = covid[covid.state == 'Maharashtra']"
   ]
  },
  {
   "cell_type": "code",
   "execution_count": 26,
   "metadata": {},
   "outputs": [
    {
     "data": {
      "text/plain": [
       "(418, 5)"
      ]
     },
     "execution_count": 26,
     "metadata": {},
     "output_type": "execute_result"
    }
   ],
   "source": [
    "maha.shape"
   ]
  },
  {
   "cell_type": "code",
   "execution_count": 27,
   "metadata": {},
   "outputs": [
    {
     "data": {
      "text/html": [
       "<div>\n",
       "<style scoped>\n",
       "    .dataframe tbody tr th:only-of-type {\n",
       "        vertical-align: middle;\n",
       "    }\n",
       "\n",
       "    .dataframe tbody tr th {\n",
       "        vertical-align: top;\n",
       "    }\n",
       "\n",
       "    .dataframe thead th {\n",
       "        text-align: right;\n",
       "    }\n",
       "</style>\n",
       "<table border=\"1\" class=\"dataframe\">\n",
       "  <thead>\n",
       "    <tr style=\"text-align: right;\">\n",
       "      <th></th>\n",
       "      <th>date</th>\n",
       "      <th>state</th>\n",
       "      <th>cured</th>\n",
       "      <th>deaths</th>\n",
       "      <th>confirmed</th>\n",
       "    </tr>\n",
       "  </thead>\n",
       "  <tbody>\n",
       "    <tr>\n",
       "      <th>76</th>\n",
       "      <td>2020-03-09</td>\n",
       "      <td>Maharashtra</td>\n",
       "      <td>0</td>\n",
       "      <td>0</td>\n",
       "      <td>2</td>\n",
       "    </tr>\n",
       "    <tr>\n",
       "      <th>91</th>\n",
       "      <td>2020-03-10</td>\n",
       "      <td>Maharashtra</td>\n",
       "      <td>0</td>\n",
       "      <td>0</td>\n",
       "      <td>5</td>\n",
       "    </tr>\n",
       "    <tr>\n",
       "      <th>97</th>\n",
       "      <td>2020-03-11</td>\n",
       "      <td>Maharashtra</td>\n",
       "      <td>0</td>\n",
       "      <td>0</td>\n",
       "      <td>2</td>\n",
       "    </tr>\n",
       "    <tr>\n",
       "      <th>120</th>\n",
       "      <td>2020-03-12</td>\n",
       "      <td>Maharashtra</td>\n",
       "      <td>0</td>\n",
       "      <td>0</td>\n",
       "      <td>11</td>\n",
       "    </tr>\n",
       "    <tr>\n",
       "      <th>133</th>\n",
       "      <td>2020-03-13</td>\n",
       "      <td>Maharashtra</td>\n",
       "      <td>0</td>\n",
       "      <td>0</td>\n",
       "      <td>14</td>\n",
       "    </tr>\n",
       "  </tbody>\n",
       "</table>\n",
       "</div>"
      ],
      "text/plain": [
       "          date        state  cured  deaths  confirmed\n",
       "76  2020-03-09  Maharashtra      0       0          2\n",
       "91  2020-03-10  Maharashtra      0       0          5\n",
       "97  2020-03-11  Maharashtra      0       0          2\n",
       "120 2020-03-12  Maharashtra      0       0         11\n",
       "133 2020-03-13  Maharashtra      0       0         14"
      ]
     },
     "execution_count": 27,
     "metadata": {},
     "output_type": "execute_result"
    }
   ],
   "source": [
    "maha.head()"
   ]
  },
  {
   "cell_type": "code",
   "execution_count": 28,
   "metadata": {
    "scrolled": true
   },
   "outputs": [
    {
     "data": {
      "text/html": [
       "<div>\n",
       "<style scoped>\n",
       "    .dataframe tbody tr th:only-of-type {\n",
       "        vertical-align: middle;\n",
       "    }\n",
       "\n",
       "    .dataframe tbody tr th {\n",
       "        vertical-align: top;\n",
       "    }\n",
       "\n",
       "    .dataframe thead th {\n",
       "        text-align: right;\n",
       "    }\n",
       "</style>\n",
       "<table border=\"1\" class=\"dataframe\">\n",
       "  <thead>\n",
       "    <tr style=\"text-align: right;\">\n",
       "      <th></th>\n",
       "      <th>date</th>\n",
       "      <th>state</th>\n",
       "      <th>cured</th>\n",
       "      <th>deaths</th>\n",
       "      <th>confirmed</th>\n",
       "    </tr>\n",
       "  </thead>\n",
       "  <tbody>\n",
       "    <tr>\n",
       "      <th>14242</th>\n",
       "      <td>2021-04-26</td>\n",
       "      <td>Maharashtra</td>\n",
       "      <td>3530060</td>\n",
       "      <td>64760</td>\n",
       "      <td>4295027</td>\n",
       "    </tr>\n",
       "    <tr>\n",
       "      <th>14278</th>\n",
       "      <td>2021-04-27</td>\n",
       "      <td>Maharashtra</td>\n",
       "      <td>3601796</td>\n",
       "      <td>65284</td>\n",
       "      <td>4343727</td>\n",
       "    </tr>\n",
       "    <tr>\n",
       "      <th>14314</th>\n",
       "      <td>2021-04-28</td>\n",
       "      <td>Maharashtra</td>\n",
       "      <td>3669548</td>\n",
       "      <td>66179</td>\n",
       "      <td>4410085</td>\n",
       "    </tr>\n",
       "    <tr>\n",
       "      <th>14350</th>\n",
       "      <td>2021-04-29</td>\n",
       "      <td>Maharashtra</td>\n",
       "      <td>3730729</td>\n",
       "      <td>67214</td>\n",
       "      <td>4473394</td>\n",
       "    </tr>\n",
       "    <tr>\n",
       "      <th>14386</th>\n",
       "      <td>2021-04-30</td>\n",
       "      <td>Maharashtra</td>\n",
       "      <td>3799266</td>\n",
       "      <td>67985</td>\n",
       "      <td>4539553</td>\n",
       "    </tr>\n",
       "  </tbody>\n",
       "</table>\n",
       "</div>"
      ],
      "text/plain": [
       "            date        state    cured  deaths  confirmed\n",
       "14242 2021-04-26  Maharashtra  3530060   64760    4295027\n",
       "14278 2021-04-27  Maharashtra  3601796   65284    4343727\n",
       "14314 2021-04-28  Maharashtra  3669548   66179    4410085\n",
       "14350 2021-04-29  Maharashtra  3730729   67214    4473394\n",
       "14386 2021-04-30  Maharashtra  3799266   67985    4539553"
      ]
     },
     "execution_count": 28,
     "metadata": {},
     "output_type": "execute_result"
    }
   ],
   "source": [
    "maha.tail()"
   ]
  },
  {
   "cell_type": "code",
   "execution_count": 29,
   "metadata": {},
   "outputs": [
    {
     "data": {
      "image/png": "[encoded data removed]",
      "text/plain": [
       "<Figure size 864x612 with 1 Axes>"
      ]
     },
     "metadata": {},
     "output_type": "display_data"
    }
   ],
   "source": [
    "#Confirmed Cases...\n",
    "sns.set(rc={'figure.figsize':(12,8.5)})\n",
    "sns.lineplot(x=\"date\",y=\"confirmed\",data=maha,color='r')\n",
    "plt.show()"
   ]
  },
  {
   "cell_type": "code",
   "execution_count": 30,
   "metadata": {},
   "outputs": [
    {
     "data": {
      "image/png": "[encoded data removed]",
      "text/plain": [
       "<Figure size 864x612 with 1 Axes>"
      ]
     },
     "metadata": {},
     "output_type": "display_data"
    }
   ],
   "source": [
    "# Number of Deaths\n",
    "sns.set(rc={'figure.figsize':(12,8.5)})\n",
    "sns.lineplot(x=\"date\",y=\"deaths\",data=maha,color='g')\n",
    "plt.show()"
   ]
  },
  {
   "cell_type": "markdown",
   "metadata": {},
   "source": [
    "#### Madhya Pradesh..."
   ]
  },
  {
   "cell_type": "code",
   "execution_count": 31,
   "metadata": {},
   "outputs": [],
   "source": [
    "mp = covid[covid.state =='Madhya Pradesh']"
   ]
  },
  {
   "cell_type": "code",
   "execution_count": 32,
   "metadata": {},
   "outputs": [
    {
     "data": {
      "text/plain": [
       "(406, 5)"
      ]
     },
     "execution_count": 32,
     "metadata": {},
     "output_type": "execute_result"
    }
   ],
   "source": [
    "mp.shape"
   ]
  },
  {
   "cell_type": "code",
   "execution_count": 33,
   "metadata": {},
   "outputs": [
    {
     "data": {
      "text/html": [
       "<div>\n",
       "<style scoped>\n",
       "    .dataframe tbody tr th:only-of-type {\n",
       "        vertical-align: middle;\n",
       "    }\n",
       "\n",
       "    .dataframe tbody tr th {\n",
       "        vertical-align: top;\n",
       "    }\n",
       "\n",
       "    .dataframe thead th {\n",
       "        text-align: right;\n",
       "    }\n",
       "</style>\n",
       "<table border=\"1\" class=\"dataframe\">\n",
       "  <thead>\n",
       "    <tr style=\"text-align: right;\">\n",
       "      <th></th>\n",
       "      <th>date</th>\n",
       "      <th>state</th>\n",
       "      <th>cured</th>\n",
       "      <th>deaths</th>\n",
       "      <th>confirmed</th>\n",
       "    </tr>\n",
       "  </thead>\n",
       "  <tbody>\n",
       "    <tr>\n",
       "      <th>256</th>\n",
       "      <td>2020-03-21</td>\n",
       "      <td>Madhya Pradesh</td>\n",
       "      <td>0</td>\n",
       "      <td>0</td>\n",
       "      <td>4</td>\n",
       "    </tr>\n",
       "    <tr>\n",
       "      <th>279</th>\n",
       "      <td>2020-03-22</td>\n",
       "      <td>Madhya Pradesh</td>\n",
       "      <td>0</td>\n",
       "      <td>0</td>\n",
       "      <td>4</td>\n",
       "    </tr>\n",
       "    <tr>\n",
       "      <th>302</th>\n",
       "      <td>2020-03-23</td>\n",
       "      <td>Madhya Pradesh</td>\n",
       "      <td>0</td>\n",
       "      <td>0</td>\n",
       "      <td>6</td>\n",
       "    </tr>\n",
       "    <tr>\n",
       "      <th>325</th>\n",
       "      <td>2020-03-24</td>\n",
       "      <td>Madhya Pradesh</td>\n",
       "      <td>0</td>\n",
       "      <td>0</td>\n",
       "      <td>7</td>\n",
       "    </tr>\n",
       "    <tr>\n",
       "      <th>349</th>\n",
       "      <td>2020-03-25</td>\n",
       "      <td>Madhya Pradesh</td>\n",
       "      <td>0</td>\n",
       "      <td>0</td>\n",
       "      <td>14</td>\n",
       "    </tr>\n",
       "  </tbody>\n",
       "</table>\n",
       "</div>"
      ],
      "text/plain": [
       "          date           state  cured  deaths  confirmed\n",
       "256 2020-03-21  Madhya Pradesh      0       0          4\n",
       "279 2020-03-22  Madhya Pradesh      0       0          4\n",
       "302 2020-03-23  Madhya Pradesh      0       0          6\n",
       "325 2020-03-24  Madhya Pradesh      0       0          7\n",
       "349 2020-03-25  Madhya Pradesh      0       0         14"
      ]
     },
     "execution_count": 33,
     "metadata": {},
     "output_type": "execute_result"
    }
   ],
   "source": [
    "mp.head()"
   ]
  },
  {
   "cell_type": "code",
   "execution_count": 34,
   "metadata": {},
   "outputs": [
    {
     "data": {
      "text/html": [
       "<div>\n",
       "<style scoped>\n",
       "    .dataframe tbody tr th:only-of-type {\n",
       "        vertical-align: middle;\n",
       "    }\n",
       "\n",
       "    .dataframe tbody tr th {\n",
       "        vertical-align: top;\n",
       "    }\n",
       "\n",
       "    .dataframe thead th {\n",
       "        text-align: right;\n",
       "    }\n",
       "</style>\n",
       "<table border=\"1\" class=\"dataframe\">\n",
       "  <thead>\n",
       "    <tr style=\"text-align: right;\">\n",
       "      <th></th>\n",
       "      <th>date</th>\n",
       "      <th>state</th>\n",
       "      <th>cured</th>\n",
       "      <th>deaths</th>\n",
       "      <th>confirmed</th>\n",
       "    </tr>\n",
       "  </thead>\n",
       "  <tbody>\n",
       "    <tr>\n",
       "      <th>14241</th>\n",
       "      <td>2021-04-26</td>\n",
       "      <td>Madhya Pradesh</td>\n",
       "      <td>402623</td>\n",
       "      <td>5133</td>\n",
       "      <td>499304</td>\n",
       "    </tr>\n",
       "    <tr>\n",
       "      <th>14277</th>\n",
       "      <td>2021-04-27</td>\n",
       "      <td>Madhya Pradesh</td>\n",
       "      <td>414235</td>\n",
       "      <td>5221</td>\n",
       "      <td>511990</td>\n",
       "    </tr>\n",
       "    <tr>\n",
       "      <th>14313</th>\n",
       "      <td>2021-04-28</td>\n",
       "      <td>Madhya Pradesh</td>\n",
       "      <td>425812</td>\n",
       "      <td>5319</td>\n",
       "      <td>525407</td>\n",
       "    </tr>\n",
       "    <tr>\n",
       "      <th>14349</th>\n",
       "      <td>2021-04-29</td>\n",
       "      <td>Madhya Pradesh</td>\n",
       "      <td>439968</td>\n",
       "      <td>5424</td>\n",
       "      <td>538165</td>\n",
       "    </tr>\n",
       "    <tr>\n",
       "      <th>14385</th>\n",
       "      <td>2021-04-30</td>\n",
       "      <td>Madhya Pradesh</td>\n",
       "      <td>453331</td>\n",
       "      <td>5519</td>\n",
       "      <td>550927</td>\n",
       "    </tr>\n",
       "  </tbody>\n",
       "</table>\n",
       "</div>"
      ],
      "text/plain": [
       "            date           state   cured  deaths  confirmed\n",
       "14241 2021-04-26  Madhya Pradesh  402623    5133     499304\n",
       "14277 2021-04-27  Madhya Pradesh  414235    5221     511990\n",
       "14313 2021-04-28  Madhya Pradesh  425812    5319     525407\n",
       "14349 2021-04-29  Madhya Pradesh  439968    5424     538165\n",
       "14385 2021-04-30  Madhya Pradesh  453331    5519     550927"
      ]
     },
     "execution_count": 34,
     "metadata": {},
     "output_type": "execute_result"
    }
   ],
   "source": [
    "mp.tail()"
   ]
  },
  {
   "cell_type": "code",
   "execution_count": 35,
   "metadata": {},
   "outputs": [
    {
     "data": {
      "image/png": "[encoded data removed]",
      "text/plain": [
       "<Figure size 720x612 with 1 Axes>"
      ]
     },
     "metadata": {},
     "output_type": "display_data"
    }
   ],
   "source": [
    "# Confirmed Cases...\n",
    "sns.set(rc={'figure.figsize':(10,8.5)})\n",
    "sns.lineplot(x=\"date\",y=\"confirmed\",data=mp,color='Black')\n",
    "plt.show()"
   ]
  },
  {
   "cell_type": "code",
   "execution_count": 36,
   "metadata": {},
   "outputs": [
    {
     "data": {
      "image/png": "[encoded data removed]",
      "text/plain": [
       "<Figure size 792x612 with 1 Axes>"
      ]
     },
     "metadata": {},
     "output_type": "display_data"
    }
   ],
   "source": [
    "# Number of Deaths\n",
    "sns.set(rc={'figure.figsize':(11,8.5)})\n",
    "sns.lineplot(x=\"date\",y=\"deaths\",data=mp,color='b')\n",
    "plt.show()"
   ]
  },
  {
   "cell_type": "markdown",
   "metadata": {},
   "source": [
    "#### Uttar Pradesh..."
   ]
  },
  {
   "cell_type": "code",
   "execution_count": 37,
   "metadata": {},
   "outputs": [],
   "source": [
    "up = covid[covid.state=='Uttar Pradesh']"
   ]
  },
  {
   "cell_type": "code",
   "execution_count": 38,
   "metadata": {},
   "outputs": [
    {
     "data": {
      "text/plain": [
       "(423, 5)"
      ]
     },
     "execution_count": 38,
     "metadata": {},
     "output_type": "execute_result"
    }
   ],
   "source": [
    "up.shape"
   ]
  },
  {
   "cell_type": "code",
   "execution_count": 39,
   "metadata": {},
   "outputs": [
    {
     "data": {
      "text/html": [
       "<div>\n",
       "<style scoped>\n",
       "    .dataframe tbody tr th:only-of-type {\n",
       "        vertical-align: middle;\n",
       "    }\n",
       "\n",
       "    .dataframe tbody tr th {\n",
       "        vertical-align: top;\n",
       "    }\n",
       "\n",
       "    .dataframe thead th {\n",
       "        text-align: right;\n",
       "    }\n",
       "</style>\n",
       "<table border=\"1\" class=\"dataframe\">\n",
       "  <thead>\n",
       "    <tr style=\"text-align: right;\">\n",
       "      <th></th>\n",
       "      <th>date</th>\n",
       "      <th>state</th>\n",
       "      <th>cured</th>\n",
       "      <th>deaths</th>\n",
       "      <th>confirmed</th>\n",
       "    </tr>\n",
       "  </thead>\n",
       "  <tbody>\n",
       "    <tr>\n",
       "      <th>39</th>\n",
       "      <td>2020-03-04</td>\n",
       "      <td>Uttar Pradesh</td>\n",
       "      <td>0</td>\n",
       "      <td>0</td>\n",
       "      <td>6</td>\n",
       "    </tr>\n",
       "    <tr>\n",
       "      <th>50</th>\n",
       "      <td>2020-03-05</td>\n",
       "      <td>Uttar Pradesh</td>\n",
       "      <td>0</td>\n",
       "      <td>0</td>\n",
       "      <td>7</td>\n",
       "    </tr>\n",
       "    <tr>\n",
       "      <th>55</th>\n",
       "      <td>2020-03-06</td>\n",
       "      <td>Uttar Pradesh</td>\n",
       "      <td>0</td>\n",
       "      <td>0</td>\n",
       "      <td>7</td>\n",
       "    </tr>\n",
       "    <tr>\n",
       "      <th>58</th>\n",
       "      <td>2020-03-07</td>\n",
       "      <td>Uttar Pradesh</td>\n",
       "      <td>0</td>\n",
       "      <td>0</td>\n",
       "      <td>7</td>\n",
       "    </tr>\n",
       "    <tr>\n",
       "      <th>72</th>\n",
       "      <td>2020-03-08</td>\n",
       "      <td>Uttar Pradesh</td>\n",
       "      <td>0</td>\n",
       "      <td>0</td>\n",
       "      <td>7</td>\n",
       "    </tr>\n",
       "  </tbody>\n",
       "</table>\n",
       "</div>"
      ],
      "text/plain": [
       "         date          state  cured  deaths  confirmed\n",
       "39 2020-03-04  Uttar Pradesh      0       0          6\n",
       "50 2020-03-05  Uttar Pradesh      0       0          7\n",
       "55 2020-03-06  Uttar Pradesh      0       0          7\n",
       "58 2020-03-07  Uttar Pradesh      0       0          7\n",
       "72 2020-03-08  Uttar Pradesh      0       0          7"
      ]
     },
     "execution_count": 39,
     "metadata": {},
     "output_type": "execute_result"
    }
   ],
   "source": [
    "up.head()"
   ]
  },
  {
   "cell_type": "code",
   "execution_count": 40,
   "metadata": {},
   "outputs": [
    {
     "data": {
      "text/html": [
       "<div>\n",
       "<style scoped>\n",
       "    .dataframe tbody tr th:only-of-type {\n",
       "        vertical-align: middle;\n",
       "    }\n",
       "\n",
       "    .dataframe tbody tr th {\n",
       "        vertical-align: top;\n",
       "    }\n",
       "\n",
       "    .dataframe thead th {\n",
       "        text-align: right;\n",
       "    }\n",
       "</style>\n",
       "<table border=\"1\" class=\"dataframe\">\n",
       "  <thead>\n",
       "    <tr style=\"text-align: right;\">\n",
       "      <th></th>\n",
       "      <th>date</th>\n",
       "      <th>state</th>\n",
       "      <th>cured</th>\n",
       "      <th>deaths</th>\n",
       "      <th>confirmed</th>\n",
       "    </tr>\n",
       "  </thead>\n",
       "  <tbody>\n",
       "    <tr>\n",
       "      <th>14256</th>\n",
       "      <td>2021-04-26</td>\n",
       "      <td>Uttar Pradesh</td>\n",
       "      <td>777844</td>\n",
       "      <td>11165</td>\n",
       "      <td>1086625</td>\n",
       "    </tr>\n",
       "    <tr>\n",
       "      <th>14292</th>\n",
       "      <td>2021-04-27</td>\n",
       "      <td>Uttar Pradesh</td>\n",
       "      <td>804563</td>\n",
       "      <td>11414</td>\n",
       "      <td>1120176</td>\n",
       "    </tr>\n",
       "    <tr>\n",
       "      <th>14328</th>\n",
       "      <td>2021-04-28</td>\n",
       "      <td>Uttar Pradesh</td>\n",
       "      <td>834961</td>\n",
       "      <td>11678</td>\n",
       "      <td>1153097</td>\n",
       "    </tr>\n",
       "    <tr>\n",
       "      <th>14364</th>\n",
       "      <td>2021-04-29</td>\n",
       "      <td>Uttar Pradesh</td>\n",
       "      <td>870864</td>\n",
       "      <td>11943</td>\n",
       "      <td>1182848</td>\n",
       "    </tr>\n",
       "    <tr>\n",
       "      <th>14400</th>\n",
       "      <td>2021-04-30</td>\n",
       "      <td>Uttar Pradesh</td>\n",
       "      <td>896477</td>\n",
       "      <td>12238</td>\n",
       "      <td>1217952</td>\n",
       "    </tr>\n",
       "  </tbody>\n",
       "</table>\n",
       "</div>"
      ],
      "text/plain": [
       "            date          state   cured  deaths  confirmed\n",
       "14256 2021-04-26  Uttar Pradesh  777844   11165    1086625\n",
       "14292 2021-04-27  Uttar Pradesh  804563   11414    1120176\n",
       "14328 2021-04-28  Uttar Pradesh  834961   11678    1153097\n",
       "14364 2021-04-29  Uttar Pradesh  870864   11943    1182848\n",
       "14400 2021-04-30  Uttar Pradesh  896477   12238    1217952"
      ]
     },
     "execution_count": 40,
     "metadata": {},
     "output_type": "execute_result"
    }
   ],
   "source": [
    "up.tail()"
   ]
  },
  {
   "cell_type": "code",
   "execution_count": 41,
   "metadata": {},
   "outputs": [
    {
     "data": {
      "image/png": "[encoded data removed]",
      "text/plain": [
       "<Figure size 864x612 with 1 Axes>"
      ]
     },
     "metadata": {},
     "output_type": "display_data"
    }
   ],
   "source": [
    "#Confirmed Cases...\n",
    "sns.set(rc={'figure.figsize':(12,8.5)})\n",
    "sns.lineplot(x=\"date\",y=\"confirmed\",data=up,color='b')\n",
    "plt.show()"
   ]
  },
  {
   "cell_type": "code",
   "execution_count": 42,
   "metadata": {
    "scrolled": true
   },
   "outputs": [
    {
     "data": {
      "image/png": "[encoded data removed]",
      "text/plain": [
       "<Figure size 864x612 with 1 Axes>"
      ]
     },
     "metadata": {},
     "output_type": "display_data"
    }
   ],
   "source": [
    "#Confirmed Cases...\n",
    "sns.set(rc={'figure.figsize':(12,8.5)})\n",
    "sns.lineplot(x=\"date\",y=\"deaths\",data=up,color='r')\n",
    "plt.show()"
   ]
  },
  {
   "cell_type": "code",
   "execution_count": null,
   "metadata": {},
   "outputs": [],
   "source": []
  }
 ],
 "metadata": {
  "kernelspec": {
   "display_name": "Python 3",
   "language": "python",
   "name": "python3"
  },
  "language_info": {
   "codemirror_mode": {
    "name": "ipython",
    "version": 3
   },
   "file_extension": ".py",
   "mimetype": "text/x-python",
   "name": "python",
   "nbconvert_exporter": "python",
   "pygments_lexer": "ipython3",
   "version": "3.8.1"
  }
 },
 "nbformat": 4,
 "nbformat_minor": 4
}
